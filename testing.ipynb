{
 "cells": [
  {
   "cell_type": "code",
   "execution_count": 5,
   "metadata": {},
   "outputs": [],
   "source": [
    "import os\n",
    "import torch\n",
    "os.environ[\"CUDA_VISIBLE_DEVICES\"] = \"0\" \n",
    "device = torch.device(\"cuda\" if torch.cuda.is_available() else \"cpu\")"
   ]
  },
  {
   "cell_type": "code",
   "execution_count": 12,
   "metadata": {},
   "outputs": [
    {
     "name": "stdout",
     "output_type": "stream",
     "text": [
      "['Cook the eggs in a pan on the stove over medium heat until they are set.']\n"
     ]
    }
   ],
   "source": [
    "from transformers import AutoModelForSeq2SeqLM, AutoTokenizer\n",
    "\n",
    "model = AutoModelForSeq2SeqLM.from_pretrained(\"google/flan-t5-large\")\n",
    "tokenizer = AutoTokenizer.from_pretrained(\"google/flan-t5-large\")\n",
    "\n",
    "inputs = tokenizer(\"how to cook eggs?\", return_tensors=\"pt\")\n",
    "outputs = model.generate(**inputs)\n",
    "print(tokenizer.batch_decode(outputs, skip_special_tokens=True))"
   ]
  },
  {
   "cell_type": "code",
   "execution_count": 13,
   "metadata": {},
   "outputs": [],
   "source": [
    "# read txt file\n",
    "with open(\"data/student.txt\", \"r\") as f:\n",
    "    text = f.read()"
   ]
  },
  {
   "cell_type": "code",
   "execution_count": 14,
   "metadata": {},
   "outputs": [
    {
     "name": "stdout",
     "output_type": "stream",
     "text": [
      "\"The schedule for the upcoming semester has been published. You can find it attached or on the student portal.\",\n",
      "\"The final project submission deadline is [Date]. Please make sure to submit all required files before this date.\",\n",
      "\"To register for your classes, please log in to the student portal and follow the registration guide.\",\n",
      "\"The syllabus for the course [Course Name] is attached. Please review the topics for the upcoming semester.\",\n",
      "\"The exam for [Course Name] is scheduled on [Exam Date]. Make sure to check the student portal for any updates.\",\n",
      "\"To enroll in the Data Science course, you must have completed the prerequisites: [List Prerequisites].\",\n",
      "\"Your final grades will be available on the student portal after [Date].\",\n",
      "\"For guidance on the upcoming exam, you can review the study materials and sample questions posted on the course page.\",\n",
      "\"Office hours are held every Tuesday and Thursday from 2 PM to 4 PM. Feel free to drop by for any assistance.\",\n",
      "\"To reset your student portal password, please click on the 'Forgot Password' link on the login page and follow the instructions.\",\n",
      "\"The class schedule for [Course Name] has been updated. Classes will now be held on [Days] from [Start Time] to [End Time].\",\n",
      "\"The midterm exam for [Course Name] will cover chapters 1-5 of the textbook. Please refer to the study guide on the course page.\",\n",
      "\"The deadline for dropping courses without academic penalty is [Date]. Please consult with your academic advisor before making any decisions.\",\n",
      "\"The library's extended hours during finals week are from [Start Date] to [End Date], open daily from 7 AM to 2 AM.\",\n",
      "\"To access the online course materials, log in to the learning management system using your student ID and password.\",\n",
      "\"The career fair is scheduled for [Date] in the Student Union Building. Make sure to bring copies of your resume and dress professionally.\",\n",
      "\"The deadline for submitting your thesis proposal is [Date]. Please follow the formatting guidelines available on the department website.\",\n",
      "\"Tutoring services are available for [Subject] every Monday and Wednesday from 3 PM to 5 PM in Room 301.\",\n",
      "\"The semester break will be from [Start Date] to [End Date]. Classes will resume on [Resume Date].\",\n",
      "\"To apply for on-campus housing for the next academic year, please submit your application through the housing portal by [Date].\",\n",
      "\"The guest lecture by [Speaker Name] on [Topic] has been rescheduled to [Date] at [Time] in the Main Auditorium.\",\n",
      "\"The deadline for submitting your internship report is two weeks after the completion of your internship. Please use the template provided on the career services website.\",\n",
      "\"To declare or change your major, please schedule an appointment with your academic advisor through the online booking system.\",\n",
      "\"The university's mental health services offer free counseling sessions for students. You can book an appointment by calling [Phone Number] or emailing [Email Address].\",\n",
      "\"The registration period for next semester's courses will be open from [Start Date] to [End Date]. Make sure to clear any holds on your account before registering.\",\n",
      "\"The deadline for submitting your graduation application is [Date]. Late applications may result in a delay in receiving your diploma.\",\n",
      "\"The Student Technology Center offers free software workshops every Friday. This week's topic is [Workshop Topic]. Sign up through the student portal.\",\n",
      "\"To access the research databases from off-campus, use your student ID and password with the library's proxy server.\",\n",
      "\"The deadline for submitting your study abroad application for the next academic year is [Date]. Information sessions are held every Tuesday at 3 PM in Room 205.\",\n",
      "\"The annual Student Research Symposium will be held on [Date]. If you're interested in presenting your research, please submit your abstract by [Submission Deadline].\",\n",
      "\"The university's shuttle service schedule has been updated for the winter season. You can find the new timetable on the transportation services website.\",\n",
      "\"To request an official transcript, please log in to the student portal and navigate to the 'Records' section. Processing typically takes 3-5 business days.\",\n",
      "\"The deadline for applying for scholarships for the next academic year is [Date]. You can find the list of available scholarships and application instructions on the financial aid website.\",\n",
      "\"The university's annual talent show auditions will be held on [Date] in the Performing Arts Center. Sign up sheets are available in the Student Activities Office.\",\n",
      "\"To reserve a study room in the library, use the online booking system accessible through your student portal. Rooms can be booked up to two weeks in advance.\",\n",
      "\"The deadline for submitting your capstone project proposal is [Date]. Please refer to the department guidelines for formatting and submission instructions.\",\n",
      "\"The university's IT help desk is available 24/7 for technical support. You can reach them at [Phone Number] or by emailing [Email Address].\",\n",
      "\"The Student Health Center is offering free flu shots from [Start Date] to [End Date]. No appointment necessary; just bring your student ID.\",\n",
      "\"To apply for a teaching assistant position for next semester, please submit your application and resume to the department secretary by [Date].\",\n",
      "\"The university's writing center offers free consultations for all types of academic writing. Book an appointment online through the writing center's website.\",\n",
      "\"The academic integrity workshop is mandatory for all new students. Please register for a session on [Date] through the student portal.\",\n",
      "\"The deadline for submitting your research grant application is [Date]. Make sure to include all required documentation as outlined on the research office website.\",\n",
      "\"To access the virtual lab for [Course Name], use the link provided in your course syllabus and log in with your student credentials.\",\n",
      "\"The university's sustainability initiative is hosting a campus clean-up on [Date]. Sign up to participate through the volunteer portal.\",\n",
      "\"If you're experiencing difficulties with online learning, our e-learning support team is available at [Email] or [Phone Number] during business hours.\",\n",
      "\"The deadline for submitting your course feedback survey is [Date]. Your input is valuable in improving our academic programs.\",\n",
      "\"To join a student club or organization, visit the Student Activities Fair on [Date] in the Student Center or browse the online directory on our website.\",\n",
      "\"The university's mobile app has been updated with new features. Download the latest version to access your class schedule, campus map, and more.\",\n",
      "\"If you need to request an extension for your assignment in [Course Name], please fill out the extension request form available on the course page.\",\n",
      "\"The university's annual cultural festival will be held from [Start Date] to [End Date]. If you'd like to showcase your culture, sign up for a booth by [Sign-up Deadline].\",\n",
      "\"To report a maintenance issue in your dorm room, please use the Facilities Management portal or call the 24/7 hotline at [Phone Number].\",\n",
      "\"The deadline for submitting your work-study timesheet is the 15th of each month. Late submissions may delay your payment.\",\n",
      "\"The university's Entrepreneur Club is hosting a startup pitch competition on [Date]. Submit your business idea by [Submission Deadline] to participate.\",\n",
      "\"To request accommodations for a disability, please contact the Disability Services Office at [Email] or visit them in Room 105 of the Student Services Building.\",\n",
      "\"The annual alumni mentorship program applications are now open. Apply by [Date] to be matched with an alumni mentor in your field of study.\",\n",
      "\"If you're interested in becoming a peer tutor, please attend the information session on [Date] in Room 302 or email the Academic Support Center at [Email].\",\n",
      "\"The university's fitness center is offering free yoga classes every Monday and Wednesday at 7 AM. Sign up through the recreation services website.\",\n",
      "\"To access your unofficial transcript, log in to the student portal and navigate to the 'Academic Records' section.\",\n",
      "\"The deadline for submitting your application for the study abroad exchange program is [Date]. Don't forget to include your statement of purpose and two recommendation letters.\",\n",
      "\"If you need to report a change of address, please update your information in the student portal or visit the Registrar's Office in person.\",\n",
      "\"The university's food pantry is open to all students in need. You can access it anonymously during operating hours: Monday-Friday, 10 AM to 6 PM.\",\n",
      "\"To participate in the upcoming student government elections, submit your candidacy application by [Date]. Election guidelines are available on the student government website.\",\n",
      "\"The deadline for ordering your graduation regalia is [Date]. Place your order through the university bookstore's website to ensure timely delivery.\",\n",
      "\"If you're experiencing technical issues with your student email account, please contact the IT Service Desk at [Email] or visit them in the Library, Room 101.\",\n",
      "\"The university's carpooling program is now accepting sign-ups for the next semester. Register through the transportation services website to find or offer rides.\",\n",
      "\"To apply for a summer research position, submit your CV and a brief research proposal to your department's undergraduate coordinator by [Date].\",\n",
      "\"The university's counseling services are offering a stress management workshop series starting [Date]. Register through the wellness portal to secure your spot.\",\n",
      "\"If you need to request an official enrollment verification letter, please submit your request through the student portal at least 5 business days in advance.\",\n",
      "\"The deadline for submitting your poster for the Undergraduate Research Symposium is [Date]. Guidelines for poster format and size are available on the research office website.\",\n",
      "\"To access the new online tutoring platform, use your student ID and the temporary password sent to your university email. Remember to change your password upon first login.\"\n"
     ]
    }
   ],
   "source": [
    "# show the text\n",
    "print(text)"
   ]
  },
  {
   "cell_type": "code",
   "execution_count": 15,
   "metadata": {},
   "outputs": [],
   "source": [
    "# replace all \"\",\" with newline\n",
    "text = text.replace('\",', '\\n')"
   ]
  },
  {
   "cell_type": "code",
   "execution_count": 16,
   "metadata": {},
   "outputs": [
    {
     "data": {
      "text/plain": [
       "'\"The schedule for the upcoming semester has been published. You can find it attached or on the student portal.\\n\\n\"The final project submission deadline is [Date]. Please make sure to submit all required files before this date.\\n\\n\"To register for your classes, please log in to the student portal and follow the registration guide.\\n\\n\"The syllabus for the course [Course Name] is attached. Please review the topics for the upcoming semester.\\n\\n\"The exam for [Course Name] is scheduled on [Exam Date]. Make sure to check the student portal for any updates.\\n\\n\"To enroll in the Data Science course, you must have completed the prerequisites: [List Prerequisites].\\n\\n\"Your final grades will be available on the student portal after [Date].\\n\\n\"For guidance on the upcoming exam, you can review the study materials and sample questions posted on the course page.\\n\\n\"Office hours are held every Tuesday and Thursday from 2 PM to 4 PM. Feel free to drop by for any assistance.\\n\\n\"To reset your student portal password, please click on the \\'Forgot Password\\' link on the login page and follow the instructions.\\n\\n\"The class schedule for [Course Name] has been updated. Classes will now be held on [Days] from [Start Time] to [End Time].\\n\\n\"The midterm exam for [Course Name] will cover chapters 1-5 of the textbook. Please refer to the study guide on the course page.\\n\\n\"The deadline for dropping courses without academic penalty is [Date]. Please consult with your academic advisor before making any decisions.\\n\\n\"The library\\'s extended hours during finals week are from [Start Date] to [End Date], open daily from 7 AM to 2 AM.\\n\\n\"To access the online course materials, log in to the learning management system using your student ID and password.\\n\\n\"The career fair is scheduled for [Date] in the Student Union Building. Make sure to bring copies of your resume and dress professionally.\\n\\n\"The deadline for submitting your thesis proposal is [Date]. Please follow the formatting guidelines available on the department website.\\n\\n\"Tutoring services are available for [Subject] every Monday and Wednesday from 3 PM to 5 PM in Room 301.\\n\\n\"The semester break will be from [Start Date] to [End Date]. Classes will resume on [Resume Date].\\n\\n\"To apply for on-campus housing for the next academic year, please submit your application through the housing portal by [Date].\\n\\n\"The guest lecture by [Speaker Name] on [Topic] has been rescheduled to [Date] at [Time] in the Main Auditorium.\\n\\n\"The deadline for submitting your internship report is two weeks after the completion of your internship. Please use the template provided on the career services website.\\n\\n\"To declare or change your major, please schedule an appointment with your academic advisor through the online booking system.\\n\\n\"The university\\'s mental health services offer free counseling sessions for students. You can book an appointment by calling [Phone Number] or emailing [Email Address].\\n\\n\"The registration period for next semester\\'s courses will be open from [Start Date] to [End Date]. Make sure to clear any holds on your account before registering.\\n\\n\"The deadline for submitting your graduation application is [Date]. Late applications may result in a delay in receiving your diploma.\\n\\n\"The Student Technology Center offers free software workshops every Friday. This week\\'s topic is [Workshop Topic]. Sign up through the student portal.\\n\\n\"To access the research databases from off-campus, use your student ID and password with the library\\'s proxy server.\\n\\n\"The deadline for submitting your study abroad application for the next academic year is [Date]. Information sessions are held every Tuesday at 3 PM in Room 205.\\n\\n\"The annual Student Research Symposium will be held on [Date]. If you\\'re interested in presenting your research, please submit your abstract by [Submission Deadline].\\n\\n\"The university\\'s shuttle service schedule has been updated for the winter season. You can find the new timetable on the transportation services website.\\n\\n\"To request an official transcript, please log in to the student portal and navigate to the \\'Records\\' section. Processing typically takes 3-5 business days.\\n\\n\"The deadline for applying for scholarships for the next academic year is [Date]. You can find the list of available scholarships and application instructions on the financial aid website.\\n\\n\"The university\\'s annual talent show auditions will be held on [Date] in the Performing Arts Center. Sign up sheets are available in the Student Activities Office.\\n\\n\"To reserve a study room in the library, use the online booking system accessible through your student portal. Rooms can be booked up to two weeks in advance.\\n\\n\"The deadline for submitting your capstone project proposal is [Date]. Please refer to the department guidelines for formatting and submission instructions.\\n\\n\"The university\\'s IT help desk is available 24/7 for technical support. You can reach them at [Phone Number] or by emailing [Email Address].\\n\\n\"The Student Health Center is offering free flu shots from [Start Date] to [End Date]. No appointment necessary; just bring your student ID.\\n\\n\"To apply for a teaching assistant position for next semester, please submit your application and resume to the department secretary by [Date].\\n\\n\"The university\\'s writing center offers free consultations for all types of academic writing. Book an appointment online through the writing center\\'s website.\\n\\n\"The academic integrity workshop is mandatory for all new students. Please register for a session on [Date] through the student portal.\\n\\n\"The deadline for submitting your research grant application is [Date]. Make sure to include all required documentation as outlined on the research office website.\\n\\n\"To access the virtual lab for [Course Name], use the link provided in your course syllabus and log in with your student credentials.\\n\\n\"The university\\'s sustainability initiative is hosting a campus clean-up on [Date]. Sign up to participate through the volunteer portal.\\n\\n\"If you\\'re experiencing difficulties with online learning, our e-learning support team is available at [Email] or [Phone Number] during business hours.\\n\\n\"The deadline for submitting your course feedback survey is [Date]. Your input is valuable in improving our academic programs.\\n\\n\"To join a student club or organization, visit the Student Activities Fair on [Date] in the Student Center or browse the online directory on our website.\\n\\n\"The university\\'s mobile app has been updated with new features. Download the latest version to access your class schedule, campus map, and more.\\n\\n\"If you need to request an extension for your assignment in [Course Name], please fill out the extension request form available on the course page.\\n\\n\"The university\\'s annual cultural festival will be held from [Start Date] to [End Date]. If you\\'d like to showcase your culture, sign up for a booth by [Sign-up Deadline].\\n\\n\"To report a maintenance issue in your dorm room, please use the Facilities Management portal or call the 24/7 hotline at [Phone Number].\\n\\n\"The deadline for submitting your work-study timesheet is the 15th of each month. Late submissions may delay your payment.\\n\\n\"The university\\'s Entrepreneur Club is hosting a startup pitch competition on [Date]. Submit your business idea by [Submission Deadline] to participate.\\n\\n\"To request accommodations for a disability, please contact the Disability Services Office at [Email] or visit them in Room 105 of the Student Services Building.\\n\\n\"The annual alumni mentorship program applications are now open. Apply by [Date] to be matched with an alumni mentor in your field of study.\\n\\n\"If you\\'re interested in becoming a peer tutor, please attend the information session on [Date] in Room 302 or email the Academic Support Center at [Email].\\n\\n\"The university\\'s fitness center is offering free yoga classes every Monday and Wednesday at 7 AM. Sign up through the recreation services website.\\n\\n\"To access your unofficial transcript, log in to the student portal and navigate to the \\'Academic Records\\' section.\\n\\n\"The deadline for submitting your application for the study abroad exchange program is [Date]. Don\\'t forget to include your statement of purpose and two recommendation letters.\\n\\n\"If you need to report a change of address, please update your information in the student portal or visit the Registrar\\'s Office in person.\\n\\n\"The university\\'s food pantry is open to all students in need. You can access it anonymously during operating hours: Monday-Friday, 10 AM to 6 PM.\\n\\n\"To participate in the upcoming student government elections, submit your candidacy application by [Date]. Election guidelines are available on the student government website.\\n\\n\"The deadline for ordering your graduation regalia is [Date]. Place your order through the university bookstore\\'s website to ensure timely delivery.\\n\\n\"If you\\'re experiencing technical issues with your student email account, please contact the IT Service Desk at [Email] or visit them in the Library, Room 101.\\n\\n\"The university\\'s carpooling program is now accepting sign-ups for the next semester. Register through the transportation services website to find or offer rides.\\n\\n\"To apply for a summer research position, submit your CV and a brief research proposal to your department\\'s undergraduate coordinator by [Date].\\n\\n\"The university\\'s counseling services are offering a stress management workshop series starting [Date]. Register through the wellness portal to secure your spot.\\n\\n\"If you need to request an official enrollment verification letter, please submit your request through the student portal at least 5 business days in advance.\\n\\n\"The deadline for submitting your poster for the Undergraduate Research Symposium is [Date]. Guidelines for poster format and size are available on the research office website.\\n\\n\"To access the new online tutoring platform, use your student ID and the temporary password sent to your university email. Remember to change your password upon first login.\"'"
      ]
     },
     "execution_count": 16,
     "metadata": {},
     "output_type": "execute_result"
    }
   ],
   "source": [
    "text"
   ]
  },
  {
   "cell_type": "code",
   "execution_count": null,
   "metadata": {},
   "outputs": [],
   "source": []
  }
 ],
 "metadata": {
  "kernelspec": {
   "display_name": "env1_38",
   "language": "python",
   "name": "python3"
  },
  "language_info": {
   "codemirror_mode": {
    "name": "ipython",
    "version": 3
   },
   "file_extension": ".py",
   "mimetype": "text/x-python",
   "name": "python",
   "nbconvert_exporter": "python",
   "pygments_lexer": "ipython3",
   "version": "3.8.17"
  }
 },
 "nbformat": 4,
 "nbformat_minor": 2
}
