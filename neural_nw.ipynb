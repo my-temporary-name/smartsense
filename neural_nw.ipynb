{
 "cells": [
  {
   "cell_type": "markdown",
   "metadata": {},
   "source": [
    "## Import Libraries"
   ]
  },
  {
   "cell_type": "code",
   "execution_count": 1,
   "metadata": {},
   "outputs": [],
   "source": [
    "import os\n",
    "import torch\n",
    "import pickle\n",
    "import pandas as pd\n",
    "import torch.nn as nn\n",
    "import torch.optim as optim\n",
    "import matplotlib.pyplot as plt\n",
    "\n",
    "from transformers import BertTokenizer\n",
    "from torch.utils.data import DataLoader, Dataset\n",
    "from sklearn.model_selection import train_test_split\n",
    "from sklearn.metrics import classification_report\n",
    "\n",
    "os.environ[\"CUDA_VISIBLE_DEVICES\"] = \"0\" \n",
    "device = torch.device(\"cuda\" if torch.cuda.is_available() else \"cpu\")"
   ]
  },
  {
   "cell_type": "code",
   "execution_count": 2,
   "metadata": {},
   "outputs": [],
   "source": [
    "# Initialize tokenizer\n",
    "tokenizer = BertTokenizer.from_pretrained('bert-base-uncased')"
   ]
  },
  {
   "cell_type": "markdown",
   "metadata": {},
   "source": [
    "## Dataset Class for Email Classification"
   ]
  },
  {
   "cell_type": "code",
   "execution_count": 3,
   "metadata": {},
   "outputs": [],
   "source": [
    "class EmailDataset(Dataset):\n",
    "    def __init__(self, texts, labels, tokenizer, max_len):\n",
    "        self.texts = texts\n",
    "        self.labels = labels\n",
    "        self.tokenizer = tokenizer\n",
    "        self.max_len = max_len\n",
    "\n",
    "    def __len__(self):\n",
    "        return len(self.texts)\n",
    "\n",
    "    def __getitem__(self, idx):\n",
    "        text = self.texts[idx]\n",
    "        label = self.labels[idx]\n",
    "        encoding = self.tokenizer.encode_plus(\n",
    "            text,\n",
    "            add_special_tokens=True,\n",
    "            max_length=self.max_len,\n",
    "            padding='max_length',\n",
    "            return_attention_mask=True,\n",
    "            return_tensors='pt',\n",
    "            truncation=True\n",
    "        )\n",
    "        return {\n",
    "            'input_ids': encoding['input_ids'].flatten(),\n",
    "            'attention_mask': encoding['attention_mask'].flatten(),\n",
    "            'labels': torch.tensor(label, dtype=torch.long)\n",
    "        }\n"
   ]
  },
  {
   "cell_type": "markdown",
   "metadata": {},
   "source": [
    "## Neural Network (Embedding + LSTM)"
   ]
  },
  {
   "cell_type": "code",
   "execution_count": 4,
   "metadata": {},
   "outputs": [],
   "source": [
    "class EmailClassificationModel(nn.Module):\n",
    "    def __init__(self, vocab_size, embedding_dim, hidden_dim, output_dim, n_layers, bidirectional, dropout):\n",
    "        super(EmailClassificationModel, self).__init__()\n",
    "        self.embedding = nn.Embedding(vocab_size, embedding_dim)\n",
    "        self.lstm = nn.LSTM(embedding_dim, hidden_dim, num_layers=n_layers, \n",
    "                            bidirectional=bidirectional, dropout=dropout, batch_first=True)\n",
    "        self.fc = nn.Linear(hidden_dim * 2 if bidirectional else hidden_dim, output_dim)\n",
    "        self.softmax = nn.Softmax(dim=1)\n",
    "\n",
    "    def forward(self, input_ids, attention_mask):\n",
    "        embedded = self.embedding(input_ids)\n",
    "        packed_output, (hidden, cell) = self.lstm(embedded)\n",
    "        # Use the last hidden state\n",
    "        if self.lstm.bidirectional:\n",
    "            hidden = torch.cat((hidden[-2,:,:], hidden[-1,:,:]), dim=1)\n",
    "        else:\n",
    "            hidden = hidden[-1,:,:]\n",
    "        output = self.fc(hidden)\n",
    "        return self.softmax(output)\n"
   ]
  },
  {
   "cell_type": "markdown",
   "metadata": {},
   "source": [
    "## Data Preparation (Train-Test Split and DataLoader)"
   ]
  },
  {
   "cell_type": "code",
   "execution_count": 5,
   "metadata": {},
   "outputs": [],
   "source": [
    "combined_data = pd.read_csv('data/smartsense data - merged.csv')"
   ]
  },
  {
   "cell_type": "code",
   "execution_count": 6,
   "metadata": {},
   "outputs": [],
   "source": [
    "# Assume 'combined_data' is your dataset with 'Email' and 'Category' columns\n",
    "category_mapping = {'student': 0, 'corporate': 1, 'research': 2}\n",
    "combined_data['Category'] = combined_data['Category'].map(category_mapping)\n",
    "\n",
    "train_texts, val_texts, train_labels, val_labels = train_test_split(\n",
    "    combined_data['Email'], combined_data['Category'], test_size=0.2)\n",
    "\n",
    "train_dataset = EmailDataset(train_texts.tolist(), train_labels.tolist(), tokenizer, max_len=64)\n",
    "val_dataset = EmailDataset(val_texts.tolist(), val_labels.tolist(), tokenizer, max_len=64)\n",
    "\n",
    "train_loader = DataLoader(train_dataset, batch_size=16, shuffle=True)\n",
    "val_loader = DataLoader(val_dataset, batch_size=16, shuffle=False)\n"
   ]
  },
  {
   "cell_type": "markdown",
   "metadata": {},
   "source": [
    "## Training Loop"
   ]
  },
  {
   "cell_type": "code",
   "execution_count": 7,
   "metadata": {},
   "outputs": [],
   "source": [
    "def train_model(model, train_loader, val_loader, loss_fn, optimizer, epochs):\n",
    "    model = model.to(device)\n",
    "    \n",
    "    train_losses = []\n",
    "    val_losses = []\n",
    "    val_accuracies = []\n",
    "    \n",
    "    for epoch in range(epochs):\n",
    "        total_train_loss = 0\n",
    "        model.train()\n",
    "        \n",
    "        for batch in train_loader:\n",
    "            optimizer.zero_grad()\n",
    "            input_ids = batch['input_ids'].to(device)\n",
    "            attention_mask = batch['attention_mask'].to(device)\n",
    "            labels = batch['labels'].to(device)\n",
    "            outputs = model(input_ids, attention_mask)\n",
    "            loss = loss_fn(outputs, labels)\n",
    "            loss.backward()\n",
    "            optimizer.step()\n",
    "            total_train_loss += loss.item()\n",
    "        \n",
    "        avg_train_loss = total_train_loss / len(train_loader)\n",
    "        train_losses.append(avg_train_loss)\n",
    "        print(f\"Epoch {epoch+1}, Train Loss: {avg_train_loss}\")\n",
    "        \n",
    "        # Validation step\n",
    "        model.eval()\n",
    "        total_val_loss = 0\n",
    "        correct_preds = 0\n",
    "        with torch.no_grad():\n",
    "            for batch in val_loader:\n",
    "                input_ids = batch['input_ids'].to(device)\n",
    "                attention_mask = batch['attention_mask'].to(device)\n",
    "                labels = batch['labels'].to(device)\n",
    "                outputs = model(input_ids, attention_mask)\n",
    "                loss = loss_fn(outputs, labels)\n",
    "                total_val_loss += loss.item()\n",
    "                preds = torch.argmax(outputs, dim=1)\n",
    "                correct_preds += torch.sum(preds == labels)\n",
    "        \n",
    "        avg_val_loss = total_val_loss / len(val_loader)\n",
    "        val_losses.append(avg_val_loss)\n",
    "        val_accuracy = correct_preds.double() / len(val_loader.dataset)\n",
    "        val_accuracies.append(val_accuracy.item())\n",
    "        print(f\"Epoch {epoch+1}, Val Loss: {avg_val_loss}, Val Accuracy: {val_accuracy}\\n\")\n",
    "    \n",
    "    return train_losses, val_losses, val_accuracies\n"
   ]
  },
  {
   "cell_type": "markdown",
   "metadata": {},
   "source": [
    "## Model Initialization and Training"
   ]
  },
  {
   "cell_type": "code",
   "execution_count": 8,
   "metadata": {},
   "outputs": [
    {
     "name": "stdout",
     "output_type": "stream",
     "text": [
      "Epoch 1, Train Loss: 1.0940083675086498\n",
      "Epoch 1, Val Loss: 1.081544041633606, Val Accuracy: 0.4015748031496063\n",
      "\n",
      "Epoch 2, Train Loss: 1.0114726182073355\n",
      "Epoch 2, Val Loss: 0.8428917080163956, Val Accuracy: 0.7795275590551181\n",
      "\n",
      "Epoch 3, Train Loss: 0.7259964141994715\n",
      "Epoch 3, Val Loss: 0.6463758796453476, Val Accuracy: 0.937007874015748\n",
      "\n",
      "Epoch 4, Train Loss: 0.6268892884254456\n",
      "Epoch 4, Val Loss: 0.6393575742840767, Val Accuracy: 0.9133858267716535\n",
      "\n",
      "Epoch 5, Train Loss: 0.6165848765522242\n",
      "Epoch 5, Val Loss: 0.6336862742900848, Val Accuracy: 0.9212598425196851\n",
      "\n",
      "Epoch 6, Train Loss: 0.5991841349750757\n",
      "Epoch 6, Val Loss: 0.611235186457634, Val Accuracy: 0.9448818897637795\n",
      "\n",
      "Epoch 7, Train Loss: 0.5852494910359383\n",
      "Epoch 7, Val Loss: 0.5961808040738106, Val Accuracy: 0.9606299212598425\n",
      "\n",
      "Epoch 8, Train Loss: 0.5855065640062094\n",
      "Epoch 8, Val Loss: 0.6023323461413383, Val Accuracy: 0.9448818897637795\n",
      "\n",
      "Epoch 9, Train Loss: 0.5684037208557129\n",
      "Epoch 9, Val Loss: 0.6015586107969284, Val Accuracy: 0.952755905511811\n",
      "\n",
      "Epoch 10, Train Loss: 0.5621293149888515\n",
      "Epoch 10, Val Loss: 0.6037962734699249, Val Accuracy: 0.952755905511811\n",
      "\n"
     ]
    }
   ],
   "source": [
    "vocab_size = tokenizer.vocab_size\n",
    "embedding_dim = 128\n",
    "hidden_dim = 256\n",
    "output_dim = 3  # student, corporate, research\n",
    "n_layers = 4\n",
    "bidirectional = True\n",
    "dropout = 0.3\n",
    "epochs = 10\n",
    "\n",
    "# Initialize model, optimizer, and loss function\n",
    "model = EmailClassificationModel(vocab_size, embedding_dim, hidden_dim, output_dim, n_layers, bidirectional, dropout)\n",
    "optimizer = optim.Adam(model.parameters(), lr=1e-4)\n",
    "loss_fn = nn.CrossEntropyLoss()\n",
    "\n",
    "# Train the model\n",
    "train_losses, val_losses, val_accuracies = train_model(model, train_loader, val_loader, loss_fn, optimizer, epochs)\n"
   ]
  },
  {
   "cell_type": "markdown",
   "metadata": {},
   "source": [
    "## Plot the Training and Validation Losses/Accuracies"
   ]
  },
  {
   "cell_type": "code",
   "execution_count": 9,
   "metadata": {},
   "outputs": [
    {
     "data": {
      "image/png": "[encoded data removed]",
      "text/plain": [
       "<Figure size 1200x500 with 2 Axes>"
      ]
     },
     "metadata": {},
     "output_type": "display_data"
    }
   ],
   "source": [
    "epochs_range = range(1, epochs+1)\n",
    "\n",
    "plt.figure(figsize=(12, 5))\n",
    "plt.subplot(1, 2, 1)\n",
    "plt.plot(epochs_range, train_losses, label='Train Loss')\n",
    "plt.plot(epochs_range, val_losses, label='Val Loss')\n",
    "plt.legend(loc='best')\n",
    "plt.title('Loss over epochs')\n",
    "\n",
    "plt.subplot(1, 2, 2)\n",
    "plt.plot(epochs_range, val_accuracies, label='Val Accuracy')\n",
    "plt.legend(loc='best')\n",
    "plt.title('Accuracy over epochs')\n",
    "\n",
    "plt.show()\n"
   ]
  },
  {
   "cell_type": "markdown",
   "metadata": {},
   "source": [
    "## valuate Model Performance with Classification Report"
   ]
  },
  {
   "cell_type": "code",
   "execution_count": 10,
   "metadata": {},
   "outputs": [
    {
     "name": "stdout",
     "output_type": "stream",
     "text": [
      "              precision    recall  f1-score   support\n",
      "\n",
      "     student       0.97      0.95      0.96        41\n",
      "   corporate       0.92      0.95      0.94        38\n",
      "    research       0.96      0.96      0.96        48\n",
      "\n",
      "    accuracy                           0.95       127\n",
      "   macro avg       0.95      0.95      0.95       127\n",
      "weighted avg       0.95      0.95      0.95       127\n",
      "\n"
     ]
    }
   ],
   "source": [
    "val_predictions = []\n",
    "model.eval()\n",
    "with torch.no_grad():\n",
    "    for batch in val_loader:\n",
    "        input_ids = batch['input_ids'].to(device)\n",
    "        attention_mask = batch['attention_mask'].to(device)\n",
    "        outputs = model(input_ids=input_ids, attention_mask=attention_mask)\n",
    "        preds = torch.argmax(outputs, dim=1)\n",
    "        val_predictions.extend(preds.cpu().numpy())\n",
    "\n",
    "print(classification_report(val_labels, val_predictions, target_names=['student', 'corporate', 'research']))\n"
   ]
  },
  {
   "cell_type": "markdown",
   "metadata": {},
   "source": [
    "## Save LSTM Model and Tokenizer"
   ]
  },
  {
   "cell_type": "code",
   "execution_count": 11,
   "metadata": {},
   "outputs": [
    {
     "name": "stdout",
     "output_type": "stream",
     "text": [
      "Model saved to LSTM_model_save/lstm_model.pth\n",
      "Tokenizer saved to LSTM_model_save/tokenizer.pkl\n"
     ]
    }
   ],
   "source": [
    "save_directory = \"LSTM_model_save\"\n",
    "os.makedirs(save_directory, exist_ok=True)\n",
    "\n",
    "model_save_path = os.path.join(save_directory, 'lstm_model.pth')\n",
    "tokenizer_save_path = os.path.join(save_directory, 'tokenizer.pkl')\n",
    "\n",
    "# Save the model\n",
    "torch.save(model.state_dict(), model_save_path)\n",
    "\n",
    "# Save the tokenizer\n",
    "with open(tokenizer_save_path, 'wb') as f:\n",
    "    pickle.dump(tokenizer, f)\n",
    "\n",
    "print(f\"Model saved to {model_save_path}\")\n",
    "print(f\"Tokenizer saved to {tokenizer_save_path}\")"
   ]
  },
  {
   "cell_type": "markdown",
   "metadata": {},
   "source": [
    "## Load the LSTM Model and Tokenizer"
   ]
  },
  {
   "cell_type": "code",
   "execution_count": 13,
   "metadata": {},
   "outputs": [
    {
     "name": "stdout",
     "output_type": "stream",
     "text": [
      "Model and Tokenizer loaded successfully!\n"
     ]
    }
   ],
   "source": [
    "# Load LSTM model\n",
    "vocab_size = tokenizer.vocab_size\n",
    "embedding_dim = 128\n",
    "hidden_dim = 256\n",
    "output_dim = 3  # student, corporate, research\n",
    "n_layers = 4\n",
    "bidirectional = True\n",
    "dropout = 0.3\n",
    "epochs = 10\n",
    "\n",
    "# Initialize model, optimizer, and loss function\n",
    "model = EmailClassificationModel(vocab_size, embedding_dim, hidden_dim, output_dim, n_layers, bidirectional, dropout)\n",
    "\n",
    "# Load the model's state_dict from the saved file\n",
    "model.load_state_dict(torch.load('LSTM_model_save/lstm_model.pth'))\n",
    "\n",
    "# Set the model to evaluation mode for inference\n",
    "model.eval()\n",
    "# Load tokenizer\n",
    "with open(tokenizer_save_path, 'rb') as f:\n",
    "    loaded_tokenizer = pickle.load(f)\n",
    "\n",
    "print(\"Model and Tokenizer loaded successfully!\")\n"
   ]
  },
  {
   "cell_type": "markdown",
   "metadata": {},
   "source": [
    "## Use the Loaded Model for Inference"
   ]
  },
  {
   "cell_type": "code",
   "execution_count": 14,
   "metadata": {},
   "outputs": [
    {
     "name": "stdout",
     "output_type": "stream",
     "text": [
      "[2]\n"
     ]
    }
   ],
   "source": [
    "def predict_email_category(model, emails, tokenizer):\n",
    "    model.eval()\n",
    "    predictions = []\n",
    "    \n",
    "    for email in emails:\n",
    "        # Tokenize and encode the email\n",
    "        encoding = tokenizer.encode_plus(\n",
    "            email,\n",
    "            add_special_tokens=True,\n",
    "            max_length=128,\n",
    "            padding='max_length',\n",
    "            return_attention_mask=True,\n",
    "            return_tensors='pt',\n",
    "            truncation=True\n",
    "        )\n",
    "        \n",
    "        input_ids = encoding['input_ids']\n",
    "        attention_mask = encoding['attention_mask']\n",
    "\n",
    "        with torch.no_grad():\n",
    "            outputs = model(input_ids=input_ids, attention_mask=attention_mask)\n",
    "            preds = torch.argmax(outputs, dim=1)\n",
    "            predictions.append(preds.item())\n",
    "    \n",
    "    return predictions\n",
    "\n",
    "# Example usage\n",
    "sample_emails = [\n",
    "    \"Dear Professor, I would like to have corporate partnership with your university.\",\n",
    "]\n",
    "\n",
    "predicted_labels = predict_email_category(model, sample_emails, tokenizer)\n",
    "print(predicted_labels)\n"
   ]
  },
  {
   "cell_type": "code",
   "execution_count": null,
   "metadata": {},
   "outputs": [],
   "source": []
  }
 ],
 "metadata": {
  "kernelspec": {
   "display_name": "env1_38",
   "language": "python",
   "name": "python3"
  },
  "language_info": {
   "codemirror_mode": {
    "name": "ipython",
    "version": 3
   },
   "file_extension": ".py",
   "mimetype": "text/x-python",
   "name": "python",
   "nbconvert_exporter": "python",
   "pygments_lexer": "ipython3",
   "version": "3.8.17"
  }
 },
 "nbformat": 4,
 "nbformat_minor": 2
}
